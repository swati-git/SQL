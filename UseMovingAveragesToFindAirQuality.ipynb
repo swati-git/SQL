{
  "nbformat": 4,
  "nbformat_minor": 0,
  "metadata": {
    "colab": {
      "provenance": [],
      "authorship_tag": "ABX9TyO0HVpAcrW38+HbY8Uq3yaG",
      "include_colab_link": true
    },
    "kernelspec": {
      "name": "python3",
      "display_name": "Python 3"
    },
    "language_info": {
      "name": "python"
    }
  },
  "cells": [
    {
      "cell_type": "markdown",
      "metadata": {
        "id": "view-in-github",
        "colab_type": "text"
      },
      "source": [
        "<a href=\"https://colab.research.google.com/github/swati-git/SQL/blob/main/UseMovingAveragesToFindAirQuality.ipynb\" target=\"_parent\"><img src=\"https://colab.research.google.com/assets/colab-badge.svg\" alt=\"Open In Colab\"/></a>"
      ]
    },
    {
      "cell_type": "code",
      "source": [
        "from pyspark.sql import SparkSession, Window\n",
        "from pyspark.sql.functions import col, avg, hour, to_timestamp\n",
        "\n",
        "\n",
        "spark = SparkSession.builder.appName(\"AirQualityMovingAverages\").getOrCreate()\n",
        "\n",
        "hourly_data = [\n",
        "    (\"2023-05-01 00:00:00\", 12.3),\n",
        "    (\"2023-05-01 01:00:00\", 14.1),\n",
        "    (\"2023-05-01 02:00:00\", 15.6),\n",
        "    (\"2023-05-01 03:00:00\", 17.2),\n",
        "    (\"2023-05-01 04:00:00\", 19.8),\n",
        "    (\"2023-05-01 05:00:00\", 22.5),\n",
        "    (\"2023-05-01 06:00:00\", 28.7),\n",
        "    (\"2023-05-01 07:00:00\", 35.2),\n",
        "    (\"2023-05-01 08:00:00\", 42.1),\n",
        "    (\"2023-05-01 09:00:00\", 38.6),\n",
        "    (\"2023-05-01 10:00:00\", 32.4),\n",
        "    (\"2023-05-01 11:00:00\", 26.5),\n",
        "    (\"2023-05-01 12:00:00\", 22.3),\n",
        "    (\"2023-05-01 13:00:00\", 18.9),\n",
        "    (\"2023-05-01 14:00:00\", 15.6),\n",
        "    (\"2023-05-01 15:00:00\", 14.2),\n",
        "    (\"2023-05-01 16:00:00\", 16.8),\n",
        "    (\"2023-05-01 17:00:00\", 21.3),\n",
        "    (\"2023-05-01 18:00:00\", 25.7),\n",
        "    (\"2023-05-01 19:00:00\", 28.9),\n",
        "    (\"2023-05-01 20:00:00\", 24.6),\n",
        "    (\"2023-05-01 21:00:00\", 20.3),\n",
        "    (\"2023-05-01 22:00:00\", 17.1),\n",
        "    (\"2023-05-01 23:00:00\", 14.8),\n",
        "    (\"2023-05-02 00:00:00\", 13.2)\n",
        "]\n",
        "\n",
        "df = spark.createDataFrame(hourly_data, [\"timestamp\", \"pm25\"])\n",
        "\n",
        "df = df.withColumn(\"timestamp\", to_timestamp(\"timestamp\"))\n",
        "\n",
        "window_8hr = Window.orderBy(\"timestamp\").rangeBetween(-(8 * 60 * 60), 0)  # 8 hours in seconds\n",
        "df_with_8hr_avg = df.withColumn(\"8hr_moving_avg\", avg(\"pm25\").over(window_8hr))\n",
        "\n",
        "window_24hr = Window.orderBy(\"timestamp\").rangeBetween(-(24 * 60 * 60), 0)  # 24 hours in seconds\n",
        "result_df = df_with_8hr_avg.withColumn(\"24hr_moving_avg\", avg(\"pm25\").over(window_24hr))\n",
        "\n",
        "display_df = result_df.select(\n",
        "    \"timestamp\",\n",
        "    col(\"pm25\").alias(\"Hourly_PM25\"),\n",
        "    col(\"8hr_moving_avg\").alias(\"8hr_Avg_PM25\"),\n",
        "    col(\"24hr_moving_avg\").alias(\"24hr_Avg_PM25\")\n",
        ")\n",
        "\n",
        "def pm25_to_aqi_category(pm25):\n",
        "    if pm25 <= 12.0:\n",
        "        return \"Good\"\n",
        "    elif pm25 <= 35.4:\n",
        "        return \"Moderate\"\n",
        "    elif pm25 <= 55.4:\n",
        "        return \"Unhealthy for Sensitive Groups\"\n",
        "    elif pm25 <= 150.4:\n",
        "        return \"Unhealthy\"\n",
        "    elif pm25 <= 250.4:\n",
        "        return \"Very Unhealthy\"\n",
        "    else:\n",
        "        return \"Hazardous\"\n",
        "\n",
        "from pyspark.sql.functions import udf\n",
        "from pyspark.sql.types import StringType\n",
        "aqi_category_udf = udf(pm25_to_aqi_category, StringType())\n",
        "\n",
        "final_df = display_df.withColumn(\"Hourly_AQI_Category\", aqi_category_udf(\"Hourly_PM25\")) \\\n",
        "                    .withColumn(\"8hr_AQI_Category\", aqi_category_udf(\"8hr_Avg_PM25\")) \\\n",
        "                    .withColumn(\"24hr_AQI_Category\", aqi_category_udf(\"24hr_Avg_PM25\"))\n",
        "\n",
        "final_df.show(10, False)\n",
        "\n",
        "from pyspark.sql.functions import when\n",
        "warnings_df = final_df.withColumn(\n",
        "    \"Air_Quality_Warning\",\n",
        "    when(col(\"24hr_AQI_Category\") == \"Good\", \"No warning\") \\\n",
        "    .when(col(\"24hr_AQI_Category\") == \"Moderate\", \"Unusually sensitive individuals should consider reducing prolonged outdoor exertion\") \\\n",
        "    .when(col(\"24hr_AQI_Category\") == \"Unhealthy for Sensitive Groups\", \"Active children and adults, and people with respiratory disease should limit prolonged outdoor exertion\") \\\n",
        "    .when(col(\"24hr_AQI_Category\") == \"Unhealthy\", \"Everyone may begin to experience health effects; sensitive groups should avoid all outdoor exertion\") \\\n",
        "    .otherwise(\"Health alert: everyone may experience more serious health effects\")\n",
        ")\n",
        "\n",
        "warnings_df.select(\"timestamp\", \"24hr_Avg_PM25\", \"24hr_AQI_Category\", \"Air_Quality_Warning\").show(5, False)"
      ],
      "metadata": {
        "id": "VbOCbk9j6Pyb"
      },
      "execution_count": null,
      "outputs": []
    }
  ]
}