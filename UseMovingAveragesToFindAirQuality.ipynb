{
  "nbformat": 4,
  "nbformat_minor": 0,
  "metadata": {
    "colab": {
      "provenance": [],
      "authorship_tag": "ABX9TyPkoqNv7et/NODuB8dGn2+P",
      "include_colab_link": true
    },
    "kernelspec": {
      "name": "python3",
      "display_name": "Python 3"
    },
    "language_info": {
      "name": "python"
    }
  },
  "cells": [
    {
      "cell_type": "markdown",
      "metadata": {
        "id": "view-in-github",
        "colab_type": "text"
      },
      "source": [
        "<a href=\"https://colab.research.google.com/github/swati-git/SQL/blob/main/UseMovingAveragesToFindAirQuality.ipynb\" target=\"_parent\"><img src=\"https://colab.research.google.com/assets/colab-badge.svg\" alt=\"Open In Colab\"/></a>"
      ]
    },
    {
      "cell_type": "code",
      "source": [
        "from pyspark.sql import SparkSession, Window\n",
        "from pyspark.sql.functions import col, avg, hour, to_timestamp\n",
        "\n",
        "\n",
        "spark = SparkSession.builder.appName(\"AirQualityMovingAverages\").getOrCreate()\n",
        "\n",
        "hourly_data = [\n",
        "    (\"2023-05-01 00:00:00\", 12.3),\n",
        "    (\"2023-05-01 01:00:00\", 14.1),\n",
        "    (\"2023-05-01 02:00:00\", 15.6),\n",
        "    (\"2023-05-01 03:00:00\", 17.2),\n",
        "    (\"2023-05-01 04:00:00\", 19.8),\n",
        "    (\"2023-05-01 05:00:00\", 22.5),\n",
        "    (\"2023-05-01 06:00:00\", 28.7),\n",
        "    (\"2023-05-01 07:00:00\", 35.2),\n",
        "    (\"2023-05-01 08:00:00\", 42.1),\n",
        "    (\"2023-05-01 09:00:00\", 38.6),\n",
        "    (\"2023-05-01 10:00:00\", 32.4),\n",
        "    (\"2023-05-01 11:00:00\", 26.5),\n",
        "    (\"2023-05-01 12:00:00\", 22.3),\n",
        "    (\"2023-05-01 13:00:00\", 18.9),\n",
        "    (\"2023-05-01 14:00:00\", 15.6),\n",
        "    (\"2023-05-01 15:00:00\", 14.2),\n",
        "    (\"2023-05-01 16:00:00\", 16.8),\n",
        "    (\"2023-05-01 17:00:00\", 21.3),\n",
        "    (\"2023-05-01 18:00:00\", 25.7),\n",
        "    (\"2023-05-01 19:00:00\", 28.9),\n",
        "    (\"2023-05-01 20:00:00\", 24.6),\n",
        "    (\"2023-05-01 21:00:00\", 20.3),\n",
        "    (\"2023-05-01 22:00:00\", 17.1),\n",
        "    (\"2023-05-01 23:00:00\", 14.8),\n",
        "    (\"2023-05-02 00:00:00\", 13.2)\n",
        "]\n",
        "\n",
        "df = spark.createDataFrame(hourly_data, [\"timestamp\", \"pm25\"])\n",
        "df.show()\n"
      ],
      "metadata": {
        "id": "VbOCbk9j6Pyb",
        "colab": {
          "base_uri": "https://localhost:8080/"
        },
        "outputId": "0a295e80-2ff3-46dd-c733-e6183731a333"
      },
      "execution_count": 1,
      "outputs": [
        {
          "output_type": "stream",
          "name": "stdout",
          "text": [
            "+-------------------+----+\n",
            "|          timestamp|pm25|\n",
            "+-------------------+----+\n",
            "|2023-05-01 00:00:00|12.3|\n",
            "|2023-05-01 01:00:00|14.1|\n",
            "|2023-05-01 02:00:00|15.6|\n",
            "|2023-05-01 03:00:00|17.2|\n",
            "|2023-05-01 04:00:00|19.8|\n",
            "|2023-05-01 05:00:00|22.5|\n",
            "|2023-05-01 06:00:00|28.7|\n",
            "|2023-05-01 07:00:00|35.2|\n",
            "|2023-05-01 08:00:00|42.1|\n",
            "|2023-05-01 09:00:00|38.6|\n",
            "|2023-05-01 10:00:00|32.4|\n",
            "|2023-05-01 11:00:00|26.5|\n",
            "|2023-05-01 12:00:00|22.3|\n",
            "|2023-05-01 13:00:00|18.9|\n",
            "|2023-05-01 14:00:00|15.6|\n",
            "|2023-05-01 15:00:00|14.2|\n",
            "|2023-05-01 16:00:00|16.8|\n",
            "|2023-05-01 17:00:00|21.3|\n",
            "|2023-05-01 18:00:00|25.7|\n",
            "|2023-05-01 19:00:00|28.9|\n",
            "+-------------------+----+\n",
            "only showing top 20 rows\n",
            "\n"
          ]
        }
      ]
    },
    {
      "cell_type": "code",
      "source": [
        "df.dtypes\n"
      ],
      "metadata": {
        "colab": {
          "base_uri": "https://localhost:8080/"
        },
        "id": "85dZaanmfn9z",
        "outputId": "5aca46ee-3213-43ff-c172-4229bb388851"
      },
      "execution_count": 2,
      "outputs": [
        {
          "output_type": "execute_result",
          "data": {
            "text/plain": [
              "[('timestamp', 'string'), ('pm25', 'double')]"
            ]
          },
          "metadata": {},
          "execution_count": 2
        }
      ]
    },
    {
      "cell_type": "code",
      "source": [
        "df = df.withColumn(\"timestamp\", to_timestamp(\"timestamp\"))\n",
        "\n",
        "df.dtypes"
      ],
      "metadata": {
        "colab": {
          "base_uri": "https://localhost:8080/"
        },
        "id": "lLQieFs1fUhL",
        "outputId": "e62ffe12-405b-4a6d-c148-60cbb3e87ee0"
      },
      "execution_count": 3,
      "outputs": [
        {
          "output_type": "execute_result",
          "data": {
            "text/plain": [
              "[('timestamp', 'timestamp'), ('pm25', 'double')]"
            ]
          },
          "metadata": {},
          "execution_count": 3
        }
      ]
    },
    {
      "cell_type": "code",
      "source": [
        "# Convert timestamp to long (milliseconds since epoch)\n",
        "from pyspark.sql.functions import unix_timestamp\n",
        "df = df.withColumn(\"timestamp_ms\", unix_timestamp(\"timestamp\").cast(\"long\") * 1000)\n",
        "\n",
        "# Define window on the long column\n",
        "window_8hr = Window.orderBy(\"timestamp_ms\").rangeBetween(\n",
        "    -(8 * 60 * 60 * 1000),  # 8 hours in milliseconds\n",
        "    0                       # current row\n",
        ")\n",
        "\n",
        "# Apply the window function\n",
        "df_with_8hr_avg = df.withColumn(\"8hr_moving_avg\", avg(\"pm25\").over(window_8hr))"
      ],
      "metadata": {
        "id": "tb5940pHm7vQ"
      },
      "execution_count": 8,
      "outputs": []
    },
    {
      "cell_type": "code",
      "source": [
        "df_with_8hr_avg"
      ],
      "metadata": {
        "colab": {
          "base_uri": "https://localhost:8080/"
        },
        "id": "TQBpsuPFD5r8",
        "outputId": "ef28642f-940f-4db3-ed13-e71d7925e283"
      },
      "execution_count": 10,
      "outputs": [
        {
          "output_type": "execute_result",
          "data": {
            "text/plain": [
              "DataFrame[timestamp: timestamp, pm25: double, timestamp_ms: bigint, 8hr_moving_avg: double]"
            ]
          },
          "metadata": {},
          "execution_count": 10
        }
      ]
    },
    {
      "cell_type": "code",
      "source": [
        "df_with_8hr_avg.select([\"timestamp\", \"pm25\", \"8hr_moving_avg\"]).show()"
      ],
      "metadata": {
        "colab": {
          "base_uri": "https://localhost:8080/"
        },
        "id": "0fzCp0JdnLwu",
        "outputId": "d3f0e920-26c3-4ad1-b9ce-54b90292431f"
      },
      "execution_count": 11,
      "outputs": [
        {
          "output_type": "stream",
          "name": "stdout",
          "text": [
            "+-------------------+----+------------------+\n",
            "|          timestamp|pm25|    8hr_moving_avg|\n",
            "+-------------------+----+------------------+\n",
            "|2023-05-01 00:00:00|12.3|              12.3|\n",
            "|2023-05-01 01:00:00|14.1|              13.2|\n",
            "|2023-05-01 02:00:00|15.6|              14.0|\n",
            "|2023-05-01 03:00:00|17.2|              14.8|\n",
            "|2023-05-01 04:00:00|19.8|              15.8|\n",
            "|2023-05-01 05:00:00|22.5|16.916666666666668|\n",
            "|2023-05-01 06:00:00|28.7|18.599999999999998|\n",
            "|2023-05-01 07:00:00|35.2|20.674999999999997|\n",
            "|2023-05-01 08:00:00|42.1|23.055555555555554|\n",
            "|2023-05-01 09:00:00|38.6|25.977777777777778|\n",
            "|2023-05-01 10:00:00|32.4| 28.01111111111111|\n",
            "|2023-05-01 11:00:00|26.5| 29.22222222222222|\n",
            "|2023-05-01 12:00:00|22.3| 29.78888888888889|\n",
            "|2023-05-01 13:00:00|18.9|29.688888888888886|\n",
            "|2023-05-01 14:00:00|15.6|28.922222222222224|\n",
            "|2023-05-01 15:00:00|14.2|27.311111111111114|\n",
            "|2023-05-01 16:00:00|16.8|25.266666666666666|\n",
            "|2023-05-01 17:00:00|21.3|22.955555555555556|\n",
            "|2023-05-01 18:00:00|25.7|21.522222222222222|\n",
            "|2023-05-01 19:00:00|28.9|21.133333333333333|\n",
            "+-------------------+----+------------------+\n",
            "only showing top 20 rows\n",
            "\n"
          ]
        }
      ]
    },
    {
      "cell_type": "code",
      "source": [
        "window_24hr = Window.orderBy(\"timestamp_ms\").rangeBetween(-(24 * 60 * 60), 0)  # 24 hours in seconds\n",
        "result_df = df_with_8hr_avg.withColumn(\"24hr_moving_avg\", avg(\"pm25\").over(window_24hr))\n",
        "\n",
        "display_df = result_df.select(\n",
        "    \"timestamp\",\n",
        "    col(\"pm25\").alias(\"Hourly_PM25\"),\n",
        "    col(\"8hr_moving_avg\").alias(\"8hr_Avg_PM25\"),\n",
        "    col(\"24hr_moving_avg\").alias(\"24hr_Avg_PM25\")\n",
        ")\n",
        "\n",
        "def pm25_to_aqi_category(pm25):\n",
        "    if pm25 <= 12.0:\n",
        "        return \"Good\"\n",
        "    elif pm25 <= 35.4:\n",
        "        return \"Moderate\"\n",
        "    elif pm25 <= 55.4:\n",
        "        return \"Unhealthy for Sensitive Groups\"\n",
        "    elif pm25 <= 150.4:\n",
        "        return \"Unhealthy\"\n",
        "    elif pm25 <= 250.4:\n",
        "        return \"Very Unhealthy\"\n",
        "    else:\n",
        "        return \"Hazardous\"\n",
        "\n",
        "from pyspark.sql.functions import udf\n",
        "from pyspark.sql.types import StringType\n",
        "aqi_category_udf = udf(pm25_to_aqi_category, StringType())\n",
        "\n",
        "final_df = display_df.withColumn(\"Hourly_AQI_Category\", aqi_category_udf(\"Hourly_PM25\")) \\\n",
        "                    .withColumn(\"8hr_AQI_Category\", aqi_category_udf(\"8hr_Avg_PM25\")) \\\n",
        "                    .withColumn(\"24hr_AQI_Category\", aqi_category_udf(\"24hr_Avg_PM25\"))\n",
        "\n",
        "final_df.show(10, False)\n",
        "\n",
        "from pyspark.sql.functions import when\n",
        "warnings_df = final_df.withColumn(\n",
        "    \"Air_Quality_Warning\",\n",
        "    when(col(\"24hr_AQI_Category\") == \"Good\", \"No warning\") \\\n",
        "    .when(col(\"24hr_AQI_Category\") == \"Moderate\", \"Unusually sensitive individuals should consider reducing prolonged outdoor exertion\") \\\n",
        "    .when(col(\"24hr_AQI_Category\") == \"Unhealthy for Sensitive Groups\", \"Active children and adults, and people with respiratory disease should limit prolonged outdoor exertion\") \\\n",
        "    .when(col(\"24hr_AQI_Category\") == \"Unhealthy\", \"Everyone may begin to experience health effects; sensitive groups should avoid all outdoor exertion\") \\\n",
        "    .otherwise(\"Health alert: everyone may experience more serious health effects\")\n",
        ")\n",
        "\n",
        "warnings_df.select(\"timestamp\", \"24hr_Avg_PM25\", \"24hr_AQI_Category\", \"Air_Quality_Warning\").show(5, False)"
      ],
      "metadata": {
        "colab": {
          "base_uri": "https://localhost:8080/"
        },
        "id": "nRSvU7Pqf9vx",
        "outputId": "289c045f-24ca-4919-f67c-a6a4fe6889ef"
      },
      "execution_count": 13,
      "outputs": [
        {
          "output_type": "stream",
          "name": "stdout",
          "text": [
            "+-------------------+-----------+------------------+-------------+------------------------------+----------------+------------------------------+\n",
            "|timestamp          |Hourly_PM25|8hr_Avg_PM25      |24hr_Avg_PM25|Hourly_AQI_Category           |8hr_AQI_Category|24hr_AQI_Category             |\n",
            "+-------------------+-----------+------------------+-------------+------------------------------+----------------+------------------------------+\n",
            "|2023-05-01 00:00:00|12.3       |12.3              |12.3         |Moderate                      |Moderate        |Moderate                      |\n",
            "|2023-05-01 01:00:00|14.1       |13.2              |14.1         |Moderate                      |Moderate        |Moderate                      |\n",
            "|2023-05-01 02:00:00|15.6       |14.0              |15.6         |Moderate                      |Moderate        |Moderate                      |\n",
            "|2023-05-01 03:00:00|17.2       |14.8              |17.2         |Moderate                      |Moderate        |Moderate                      |\n",
            "|2023-05-01 04:00:00|19.8       |15.8              |19.8         |Moderate                      |Moderate        |Moderate                      |\n",
            "|2023-05-01 05:00:00|22.5       |16.916666666666668|22.5         |Moderate                      |Moderate        |Moderate                      |\n",
            "|2023-05-01 06:00:00|28.7       |18.599999999999998|28.7         |Moderate                      |Moderate        |Moderate                      |\n",
            "|2023-05-01 07:00:00|35.2       |20.674999999999997|35.2         |Moderate                      |Moderate        |Moderate                      |\n",
            "|2023-05-01 08:00:00|42.1       |23.055555555555554|42.1         |Unhealthy for Sensitive Groups|Moderate        |Unhealthy for Sensitive Groups|\n",
            "|2023-05-01 09:00:00|38.6       |25.977777777777778|38.6         |Unhealthy for Sensitive Groups|Moderate        |Unhealthy for Sensitive Groups|\n",
            "+-------------------+-----------+------------------+-------------+------------------------------+----------------+------------------------------+\n",
            "only showing top 10 rows\n",
            "\n",
            "+-------------------+-------------+-----------------+-----------------------------------------------------------------------------------+\n",
            "|timestamp          |24hr_Avg_PM25|24hr_AQI_Category|Air_Quality_Warning                                                                |\n",
            "+-------------------+-------------+-----------------+-----------------------------------------------------------------------------------+\n",
            "|2023-05-01 00:00:00|12.3         |Moderate         |Unusually sensitive individuals should consider reducing prolonged outdoor exertion|\n",
            "|2023-05-01 01:00:00|14.1         |Moderate         |Unusually sensitive individuals should consider reducing prolonged outdoor exertion|\n",
            "|2023-05-01 02:00:00|15.6         |Moderate         |Unusually sensitive individuals should consider reducing prolonged outdoor exertion|\n",
            "|2023-05-01 03:00:00|17.2         |Moderate         |Unusually sensitive individuals should consider reducing prolonged outdoor exertion|\n",
            "|2023-05-01 04:00:00|19.8         |Moderate         |Unusually sensitive individuals should consider reducing prolonged outdoor exertion|\n",
            "+-------------------+-------------+-----------------+-----------------------------------------------------------------------------------+\n",
            "only showing top 5 rows\n",
            "\n"
          ]
        }
      ]
    }
  ]
}