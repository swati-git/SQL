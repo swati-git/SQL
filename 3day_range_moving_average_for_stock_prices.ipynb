{
  "nbformat": 4,
  "nbformat_minor": 0,
  "metadata": {
    "colab": {
      "provenance": [],
      "authorship_tag": "ABX9TyNJsnFAnHXSdgAv+NK3xakO",
      "include_colab_link": true
    },
    "kernelspec": {
      "name": "python3",
      "display_name": "Python 3"
    },
    "language_info": {
      "name": "python"
    }
  },
  "cells": [
    {
      "cell_type": "markdown",
      "metadata": {
        "id": "view-in-github",
        "colab_type": "text"
      },
      "source": [
        "<a href=\"https://colab.research.google.com/github/swati-git/SQL/blob/main/3day_range_moving_average_for_stock_prices.ipynb\" target=\"_parent\"><img src=\"https://colab.research.google.com/assets/colab-badge.svg\" alt=\"Open In Colab\"/></a>"
      ]
    },
    {
      "cell_type": "markdown",
      "source": [
        "Moving averages smooth out short-term price fluctuations, making it easier to spot the underlying trend:\n",
        "\n",
        "Uptrend: When a stock consistently trades above its moving average\n",
        "Downtrend: When a stock trades below its moving average\n",
        "Sideways/Ranging: When price oscillates around the moving average"
      ],
      "metadata": {
        "id": "xLo90hUBOo4Q"
      }
    },
    {
      "cell_type": "code",
      "execution_count": null,
      "metadata": {
        "id": "PiZ9vpkVJnzp"
      },
      "outputs": [],
      "source": [
        "from pyspark.sql import SparkSession, Window\n",
        "from pyspark.sql.functions import avg, col, date_format\n",
        "\n",
        "\n",
        "spark = SparkSession.builder.appName(\"MovingAverages\").getOrCreate()\n",
        "\n",
        "\n",
        "data = [\n",
        "    (\"2023-01-01\", 100.0),\n",
        "    (\"2023-01-02\", 102.0),\n",
        "    (\"2023-01-03\", 99.0),\n",
        "    (\"2023-01-04\", 103.0),\n",
        "    (\"2023-01-05\", 105.0),\n",
        "    (\"2023-01-06\", 102.0),\n",
        "    (\"2023-01-07\", 107.0)\n",
        "]\n",
        "\n",
        "\n",
        "df = spark.createDataFrame(data, [\"date\", \"price\"])\n",
        "\n",
        "\n",
        "window_spec = Window.orderBy(\"date\").rowsBetween(-2, 0)  # Current row and 2 previous rows\n",
        "\n",
        "\n",
        "result_df = df.withColumn(\"3_day_moving_avg\", avg(\"price\").over(window_spec))\n",
        "\n",
        "result_df.show()"
      ]
    },
    {
      "cell_type": "code",
      "source": [
        "# from pyspark.sql import functions as F\n",
        "# from pyspark.sql.window import Window\n",
        "# from pyspark.sql.types import TimestampType\n",
        "\n",
        "\n",
        "# df_with_timestamp = df.withColumn(\"timestamp\", F.to_timestamp(\"date\"))\n",
        "\n",
        "\n",
        "# three_days_ms = 3 * 24 * 60 * 60 * 1000\n",
        "# window_spec = Window.orderBy(\"timestamp\").rangeBetween(-three_days_ms, 0)\n",
        "\n",
        "\n",
        "# result_df = df_with_timestamp.withColumn(\n",
        "#     \"3_day_range_moving_avg\",\n",
        "#     F.avg(\"price\").over(window_spec)\n",
        "# )\n",
        "\n",
        "# result_df.select(\"date\", \"price\", \"3_day_range_moving_avg\").show()"
      ],
      "metadata": {
        "id": "p1RTaxtFKItW"
      },
      "execution_count": null,
      "outputs": []
    }
  ]
}